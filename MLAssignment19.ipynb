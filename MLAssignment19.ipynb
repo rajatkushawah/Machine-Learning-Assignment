{
 "cells": [
  {
   "cell_type": "markdown",
   "id": "111120c6",
   "metadata": {},
   "source": [
    "que1- A set of one-dimensional data points is given to you: 5, 10, 15, 20, 25, 30, 35. Assume that k = 2 and that the first set of random centroid is 15, 32, and that the second set is 12, 30. ?\n",
    "1. Using the k-means method, create two clusters for each set of centroid described above.\n",
    "2. For each set of centroid values, calculate the SSE."
   ]
  },
  {
   "cell_type": "code",
   "execution_count": null,
   "id": "fdf0f628",
   "metadata": {},
   "outputs": [],
   "source": []
  },
  {
   "cell_type": "markdown",
   "id": "4ae857d4",
   "metadata": {},
   "source": [
    "que2- Describe how the Market Basket Research makes use of association analysis concepts ?"
   ]
  },
  {
   "cell_type": "markdown",
   "id": "9426d439",
   "metadata": {},
   "source": [
    "ans2- Market Basket Analysis (MBA), also known as Association Analysis, is a technique used in data mining and data analysis to discover relationships or associations between items frequently purchased or used together in a transactional dataset. The goal of MBA is to uncover patterns and dependencies in customer purchase behavior.\n",
    "\n",
    "Association analysis makes use of several concepts to perform Market Basket Research effectively:\n",
    "\n",
    "1. **Support:** Support is a measure of the frequency or occurrence of an itemset in the dataset. It calculates the probability of finding a specific itemset in all transactions. Support helps identify frequently occurring itemsets that are relevant for analysis.\n",
    "\n",
    "2. **Confidence:** Confidence measures the strength of the relationship between two items in terms of how often they occur together. It is calculated as the ratio of the support for the combined itemset to the support for the individual item. High confidence indicates a strong association between items.\n",
    "\n",
    "3. **Lift:** Lift is another important measure used in association analysis. It quantifies the degree of dependency between two items. Lift is calculated as the ratio of the observed support to the expected support if the items were independent. Lift greater than 1 indicates a positive association, while lift less than 1 indicates a negative association.\n",
    "\n",
    "4. **Itemset:** An itemset refers to a collection of items that are considered together. In Market Basket Analysis, itemsets are used to represent combinations of products frequently purchased together."
   ]
  },
  {
   "cell_type": "markdown",
   "id": "c981ac1e",
   "metadata": {},
   "source": [
    "que3- Give an example of the Apriori algorithm for learning association rules ?"
   ]
  },
  {
   "cell_type": "code",
   "execution_count": null,
   "id": "f53aa856",
   "metadata": {},
   "outputs": [],
   "source": []
  },
  {
   "cell_type": "markdown",
   "id": "07ab2a64",
   "metadata": {},
   "source": [
    "que4- In hierarchical clustering, how is the distance between clusters measured? Explain how this metric is used to decide when to end the iteration ?"
   ]
  },
  {
   "cell_type": "markdown",
   "id": "a6c20038",
   "metadata": {},
   "source": [
    "ans4- In hierarchical clustering, the distance between clusters is measured using a distance metric such as Euclidean distance, Manhattan distance, or other similarity measures. The choice of distance metric depends on the nature of the data and the problem at hand.\n",
    "\n",
    "The distance between clusters can be calculated in different ways:\n",
    "\n",
    "1. **Single Linkage:** The distance between two clusters is defined as the shortest distance between any two points belonging to the different clusters.\n",
    "\n",
    "2. **Complete Linkage:** The distance between two clusters is defined as the maximum distance between any two points belonging to the different clusters.\n",
    "\n",
    "3. **Average Linkage:** The distance between two clusters is defined as the average distance between all possible pairs of points from the two clusters.\n",
    "\n",
    "4. **Ward's Linkage:** The distance between two clusters is defined as the increase in the total sum of squares when merging the clusters.\n",
    "\n",
    "These distance metrics help in determining the similarity or dissimilarity between clusters and are used to build the hierarchical structure of clusters.\n",
    "\n",
    "Deciding when to end the iteration in hierarchical clustering is typically done by setting a stopping criterion based on the distance between clusters. The algorithm continues merging clusters until a certain condition is met. "
   ]
  },
  {
   "cell_type": "markdown",
   "id": "0be2162e",
   "metadata": {},
   "source": [
    "que5- In the k-means algorithm, how do you recompute the cluster centroids ?"
   ]
  },
  {
   "cell_type": "markdown",
   "id": "888fde84",
   "metadata": {},
   "source": [
    "ans5- In the k-means algorithm, the cluster centroids are recomputed in each iteration to update their positions based on the current assignment of data points to clusters. The centroid recomputation step involves the following process:\n",
    "\n",
    "1. **Initialization:** Initially, the algorithm randomly selects k data points from the dataset as the initial centroids. These centroids serve as the starting points for the clustering process.\n",
    "\n",
    "2. **Assignment:** Each data point in the dataset is assigned to the nearest centroid based on a distance metric, typically Euclidean distance. This step forms clusters based on the initial centroids.\n",
    "\n",
    "3. **Centroid Recomputation:** After the assignment step, the centroids of the clusters are recomputed based on the current assignment of data points. The new centroid is calculated as the mean (average) of all the data points assigned to that cluster. This means that for each cluster, the coordinates of the centroid are updated as the mean of the coordinates of the data points within that cluster.\n",
    "\n",
    "4. **Iteration:** Steps 2 and 3 are repeated iteratively until convergence. Convergence occurs when the assignment of data points to clusters no longer changes or reaches a predefined threshold."
   ]
  },
  {
   "cell_type": "markdown",
   "id": "a96163dd",
   "metadata": {},
   "source": [
    "que6- At the start of the clustering exercise, discuss one method for determining the required number of clusters ?"
   ]
  },
  {
   "cell_type": "markdown",
   "id": "c305a916",
   "metadata": {},
   "source": [
    "ans6- Determining the required number of clusters, also known as determining the optimal value of k, is an important aspect of clustering. While there is no definitive method to determine the exact number of clusters, several techniques can be used to provide insights and guide the decision-making process. One commonly used method is the \"Elbow Method.\""
   ]
  },
  {
   "cell_type": "markdown",
   "id": "6b3b649e",
   "metadata": {},
   "source": [
    "que7- Discuss the k-means algorithm's advantages and disadvantages ?"
   ]
  },
  {
   "cell_type": "markdown",
   "id": "7f2d81e8",
   "metadata": {},
   "source": [
    "ans7- k-means algorithm has several advantages and disadvantages, which are discussed below:\n",
    "\n",
    "**Advantages of k-means algorithm:**\n",
    "\n",
    "1. **Simplicity:** K-means is relatively easy to understand and implement. It is a straightforward and intuitive algorithm, making it accessible to beginners and non-experts.\n",
    "\n",
    "2. **Scalability:** K-means can handle large datasets efficiently. Its time complexity is linear with respect to the number of data points, making it computationally efficient for large-scale applications.\n",
    "\n",
    "3. **Speed:** K-means can converge quickly, especially when dealing with well-separated and spherical clusters. It can provide results in a relatively short amount of time.\n",
    "\n",
    "4. **Interpretability:** The cluster centroids in k-means represent the cluster's center and can be interpreted as representative points for the corresponding clusters. This can aid in understanding and interpreting the results.\n",
    "\n",
    "**Disadvantages of k-means algorithm:**\n",
    "\n",
    "1. **Sensitivity to initialization:** The results of k-means can vary based on the initial placement of cluster centroids. Different initializations may lead to different clustering outcomes, and finding the optimal initial centroids is not always straightforward.\n",
    "\n",
    "2. **Predefined number of clusters:** The number of clusters (k) needs to be specified in advance, which can be challenging when the optimal number of clusters is unknown. Determining the optimal k requires domain knowledge or additional techniques such as the elbow method.\n",
    "\n",
    "3. **Sensitive to outliers:** K-means is sensitive to outliers, as they can significantly affect the position and size of the clusters. Outliers can distort the cluster centroids and potentially result in suboptimal clustering.\n",
    "\n",
    "4. **Assumption of spherical clusters and equal variance:** K-means assumes that clusters are spherical and have equal variance. This assumption may not hold in all cases, leading to suboptimal results for datasets with irregularly shaped or overlapping clusters.\n",
    "\n",
    "5. **Difficulty with non-linear boundaries:** K-means struggles with identifying clusters with non-linear boundaries. It is more suitable for datasets with well-separated and convex-shaped clusters. For datasets with complex or non-linear structures, other clustering algorithms may be more appropriate."
   ]
  },
  {
   "cell_type": "markdown",
   "id": "54020cf8",
   "metadata": {},
   "source": [
    "que8- Draw a diagram to demonstrate the principle of clustering ?"
   ]
  },
  {
   "cell_type": "code",
   "execution_count": 8,
   "id": "0a6a9faa",
   "metadata": {},
   "outputs": [
    {
     "data": {
      "image/png": "[encoded data removed]",
      "text/plain": [
       "<Figure size 432x288 with 1 Axes>"
      ]
     },
     "metadata": {
      "needs_background": "light"
     },
     "output_type": "display_data"
    }
   ],
   "source": [
    "import matplotlib.pyplot as plt\n",
    "from sklearn.datasets import make_blobs\n",
    "from sklearn.cluster import KMeans\n",
    "\n",
    "# Generate random data points\n",
    "X, y = make_blobs(n_samples=200, centers=4, random_state=0)\n",
    "\n",
    "# Perform clustering using K-Means\n",
    "kmeans = KMeans(n_clusters=4)\n",
    "kmeans.fit(X)\n",
    "\n",
    "# Get cluster labels and cluster centers\n",
    "labels = kmeans.labels_\n",
    "centers = kmeans.cluster_centers_\n",
    "\n",
    "# Plot the data points and cluster centers\n",
    "plt.scatter(X[:, 0], X[:, 1], c=labels, cmap='viridis')\n",
    "plt.scatter(centers[:, 0], centers[:, 1], marker='x', color='red', s=100, label='Cluster Centers')\n",
    "plt.title('Clustering with K-Means')\n",
    "plt.xlabel('X-axis')\n",
    "plt.ylabel('Y-axis')\n",
    "plt.legend()\n",
    "plt.show()"
   ]
  },
  {
   "cell_type": "markdown",
   "id": "9db681d1",
   "metadata": {},
   "source": [
    "que9- During your study, you discovered seven findings, which are listed in the data points below. Using the K-means algorithm, you want to build three clusters from these observations. The clusters C1, C2, and C3 have the following findings after the first iteration ?\n",
    "- `C1: (2,2), (4,4), (6,6); C2: (2,2), (4,4), (6,6); C3: (2,2), (4,4),  `\n",
    "- `C2: (0,4), (4,0), (0,4), (0,4), (0,4), (0,4), (0,4), (0,4), (0,  `\n",
    "- `C3: (5,5) and (9,9) ` \n",
    "\n",
    "What would the cluster centroids be if you were to run a second iteration? What would this clustering's SSE be?"
   ]
  },
  {
   "cell_type": "markdown",
   "id": "0bb7d71a",
   "metadata": {},
   "source": [
    "ans9-"
   ]
  },
  {
   "cell_type": "code",
   "execution_count": 13,
   "id": "fc119cf3",
   "metadata": {},
   "outputs": [
    {
     "name": "stdout",
     "output_type": "stream",
     "text": [
      "Centroid C1: [4. 4.]\n",
      "Centroid C2: [4. 4.]\n",
      "Centroid C3: [1.9 4. ]\n",
      "SSE: 158.9\n"
     ]
    }
   ],
   "source": [
    "import numpy as np\n",
    "\n",
    "# Initial cluster assignments\n",
    "C1 = np.array([[2, 2], [4, 4], [6, 6]])\n",
    "C2 = np.array([[2, 2], [4, 4], [6, 6]])\n",
    "C3 = np.array([[2, 2], [4, 4], [0, 4], [4, 0], [0, 4], [0, 4], [0, 4], [0, 4], [0, 5], [9, 9]])\n",
    "\n",
    "# Calculate cluster centroids after the first iteration\n",
    "centroid_C1 = np.mean(C1, axis=0)\n",
    "centroid_C2 = np.mean(C2, axis=0)\n",
    "centroid_C3 = np.mean(C3, axis=0)\n",
    "\n",
    "print(\"Centroid C1:\", centroid_C1)\n",
    "print(\"Centroid C2:\", centroid_C2)\n",
    "print(\"Centroid C3:\", centroid_C3)\n",
    "\n",
    "# Calculate SSE after the first iteration\n",
    "SSE = np.sum(np.square(np.linalg.norm(C1 - centroid_C1, axis=1)))\n",
    "SSE += np.sum(np.square(np.linalg.norm(C2 - centroid_C2, axis=1)))\n",
    "SSE += np.sum(np.square(np.linalg.norm(C3 - centroid_C3, axis=1)))\n",
    "\n",
    "print(\"SSE:\", SSE)"
   ]
  },
  {
   "cell_type": "markdown",
   "id": "5b686929",
   "metadata": {},
   "source": [
    "que10- In a software project, the team is attempting to determine if software flaws discovered during testing are identical. Based on the text analytics of the defect details, they decided to build 5 clusters of related defects. Any new defect formed after the 5 clusters of defects have been identified must be listed as one of the forms identified by clustering. A simple diagram can be used to explain this process. Assume you have 20 defect data points that are clustered into 5 clusters and you used the k-means algorithm ?"
   ]
  },
  {
   "cell_type": "code",
   "execution_count": null,
   "id": "dcdb4cab",
   "metadata": {},
   "outputs": [],
   "source": []
  }
 ],
 "metadata": {
  "kernelspec": {
   "display_name": "Python 3 (ipykernel)",
   "language": "python",
   "name": "python3"
  },
  "language_info": {
   "codemirror_mode": {
    "name": "ipython",
    "version": 3
   },
   "file_extension": ".py",
   "mimetype": "text/x-python",
   "name": "python",
   "nbconvert_exporter": "python",
   "pygments_lexer": "ipython3",
   "version": "3.9.7"
  }
 },
 "nbformat": 4,
 "nbformat_minor": 5
}
