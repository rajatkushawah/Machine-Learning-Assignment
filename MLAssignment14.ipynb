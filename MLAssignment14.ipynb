{
 "cells": [
  {
   "cell_type": "markdown",
   "id": "09ee4a70",
   "metadata": {},
   "source": [
    "que1- What is the concept of supervised learning? What is the significance of the name?"
   ]
  },
  {
   "cell_type": "markdown",
   "id": "83affc27",
   "metadata": {},
   "source": [
    "ans1- Supervised learning, also known as supervised machine learning, is a subcategory of machine learning and artificial intelligence. It is defined by its use of labeled datasets to train algorithms that to classify data or predict outcomes accurately."
   ]
  },
  {
   "cell_type": "markdown",
   "id": "b625e285",
   "metadata": {},
   "source": [
    "que2- In the hospital sector, offer an example of supervised learning."
   ]
  },
  {
   "cell_type": "markdown",
   "id": "32fbbf77",
   "metadata": {},
   "source": [
    "ans2- Supervised learning uses a training set to teach models to yield the desired output. This training dataset includes inputs and correct outputs, which allow the model to learn over time. The algorithm measures its accuracy through the loss function, adjusting until the error has been sufficiently minimized."
   ]
  },
  {
   "cell_type": "markdown",
   "id": "c312fc6e",
   "metadata": {},
   "source": [
    "que3- Give three supervised learning examples."
   ]
  },
  {
   "cell_type": "markdown",
   "id": "7e651e7e",
   "metadata": {},
   "source": [
    "ans3- Example of Supervised Learning Algorithms are:\n",
    "\n",
    "- Linear Regression.\n",
    "- Nearest Neighbor.\n",
    "- Gaussian Naive Bayes.\n",
    "- Decision Trees.\n",
    "- Support Vector Machine (SVM)\n",
    "- Random Forest."
   ]
  },
  {
   "cell_type": "markdown",
   "id": "f402c651",
   "metadata": {},
   "source": [
    "que4- In supervised learning, what are classification and regression?"
   ]
  },
  {
   "cell_type": "markdown",
   "id": "046ae68b",
   "metadata": {},
   "source": [
    "ans4- Fundamentally, classification is about predicting a label and regression is about predicting a quantity. That classification is the problem of predicting a discrete class label output for an example. That regression is the problem of predicting a continuous quantity output for an example."
   ]
  },
  {
   "cell_type": "markdown",
   "id": "cd03d0fa",
   "metadata": {},
   "source": [
    "que5- Give some popular classification algorithms as examples."
   ]
  },
  {
   "cell_type": "markdown",
   "id": "3af5cf92",
   "metadata": {},
   "source": [
    "ans5- Popular algorithms that can be used for multi-class classification include:\n",
    "\n",
    "- k-Nearest Neighbors\n",
    "- Decision Trees.\n",
    "- Naive Bayes"
   ]
  },
  {
   "cell_type": "markdown",
   "id": "ec2483e4",
   "metadata": {},
   "source": [
    "que6- Briefly describe the SVM model."
   ]
  },
  {
   "cell_type": "markdown",
   "id": "56479120",
   "metadata": {},
   "source": [
    "ans6- A support vector machine (SVM) is a supervised machine learning model that uses classification algorithms for two-group classification problems. After giving an SVM model sets of labeled training data for each category, they're able to categorize new text."
   ]
  },
  {
   "cell_type": "markdown",
   "id": "48d26d98",
   "metadata": {},
   "source": [
    "que7- In SVM, what is the cost of misclassification?"
   ]
  },
  {
   "cell_type": "markdown",
   "id": "032aa240",
   "metadata": {},
   "source": [
    "ans7- In cost-sensitive learning instead of each instance being either correctly or incorrectly classified, each class (or instance) is given a misclassification cost. Thus, instead of trying to optimize the accuracy, the problem is then to minimize the total misclassification cost."
   ]
  },
  {
   "cell_type": "markdown",
   "id": "70551718",
   "metadata": {},
   "source": [
    "que8- In the SVM model, define Support Vectors."
   ]
  },
  {
   "cell_type": "markdown",
   "id": "a86b4764",
   "metadata": {},
   "source": [
    "ans8- Support vectors are data points that are closer to the hyperplane and influence the position and orientation of the hyperplane. Using these support vectors, we maximize the margin of the classifier. Deleting the support vectors will change the position of the hyperplane. These are the points that help us build our SVM."
   ]
  },
  {
   "cell_type": "markdown",
   "id": "49b38ea0",
   "metadata": {},
   "source": [
    "que9- In the SVM model, define the kernel."
   ]
  },
  {
   "cell_type": "markdown",
   "id": "8c311d0a",
   "metadata": {},
   "source": [
    "ans9- SVM algorithms use a set of mathematical functions that are defined as the kernel. The function of kernel is to take data as input and transform it into the required form. These functions can be different types. For example linear, nonlinear, polynomial, radial basis function (RBF), and sigmoid."
   ]
  },
  {
   "cell_type": "markdown",
   "id": "872988af",
   "metadata": {},
   "source": [
    "que10- What are the factors that influence SVM's effectiveness?"
   ]
  },
  {
   "cell_type": "markdown",
   "id": "0395cf57",
   "metadata": {},
   "source": [
    "ans10- SVM or Support Vector Machine is a linear model for classification and regression problems. It can solve linear and non-linear problems and work well for many practical problems. The idea of SVM is simple: The algorithm creates a line or a hyperplane which separates the data into classes."
   ]
  },
  {
   "cell_type": "markdown",
   "id": "a9131b6b",
   "metadata": {},
   "source": [
    "que11- What are the benefits of using the SVM model?"
   ]
  },
  {
   "cell_type": "markdown",
   "id": "9b0f90df",
   "metadata": {},
   "source": [
    "ans11- SVM works relatively well when there is a clear margin of separation between classes. SVM is more effective in high dimensional spaces. SVM is effective in cases where the number of dimensions is greater than the number of samples.SVM is relatively memory efficient."
   ]
  },
  {
   "cell_type": "markdown",
   "id": "450da0d0",
   "metadata": {},
   "source": [
    "que12- What are the drawbacks of using the SVM model?"
   ]
  },
  {
   "cell_type": "markdown",
   "id": "30448742",
   "metadata": {},
   "source": [
    "ans12- SVM algorithm is not suitable for large data sets. SVM does not perform very well when the data set has more noise i.e. target classes are overlapping. In cases where the number of features for each data point exceeds the number of training data samples, the SVM will underperform."
   ]
  },
  {
   "cell_type": "markdown",
   "id": "69b494f7",
   "metadata": {},
   "source": [
    "que13- Notes should be written on\n",
    "1. The kNN algorithm has a validation flaw.\n",
    "2. In the kNN algorithm, the k value is chosen.\n",
    "3. A decision tree with inductive bias"
   ]
  },
  {
   "cell_type": "markdown",
   "id": "b26100f1",
   "metadata": {},
   "source": [
    "ans13- The Short notes on below topics is:\n",
    "\n",
    "1. __The kNN algorithm has a validation flaw.__\n",
    "\n",
    "The relatively low accuracy of kNN is caused by several factors. One of them is that every characteristic of the method has the same result on calculating distance. The solution of this problem is to give weight to each data characteristic.\n",
    "\n",
    "2. __In the kNN algorithm, the k value is chosen.__\n",
    "\n",
    "The optimal K value usually found is the square root of N, where N is the total number of samples. Use an error plot or accuracy plot to find the most favorable K value. KNN performs well with multi-label classes, but you must be aware of the outliers.\n",
    "\n",
    "3. __A decision tree with inductive bias.__\n",
    "\n",
    "Shorter trees are preferred over longer ones. Trees that place high information gain attributes close to the root are preferred over those that do not."
   ]
  },
  {
   "cell_type": "markdown",
   "id": "bf4d9f17",
   "metadata": {},
   "source": [
    "que14- What are some of the benefits of the kNN algorithm?"
   ]
  },
  {
   "cell_type": "markdown",
   "id": "97ecff31",
   "metadata": {},
   "source": [
    "ans14- Some Advantages of KNN are:\n",
    "\n",
    "- Quick calculation time.\n",
    "- Simple algorithm – to interpret.\n",
    "- Versatile – useful for regression and classification.\n",
    "- High accuracy – you do not need to compare with better-supervised learning models."
   ]
  },
  {
   "cell_type": "markdown",
   "id": "bd74bd66",
   "metadata": {},
   "source": [
    "que15- What are some of the kNN algorithm's drawbacks?"
   ]
  },
  {
   "cell_type": "markdown",
   "id": "00c7a519",
   "metadata": {},
   "source": [
    "ans15- Some Disadvantages of KNN are:\n",
    "\n",
    "- Accuracy depends on the quality of the data.\n",
    "- With large data, the prediction stage might be slow.\n",
    "- Sensitive to the scale of the data and irrelevant features.\n",
    "- Require high memory – need to store all of the training data.\n",
    "- Given that it stores all of the training, it can be computationally expensive."
   ]
  },
  {
   "cell_type": "markdown",
   "id": "31b08182",
   "metadata": {},
   "source": [
    "que16- Explain the decision tree algorithm in a few words."
   ]
  },
  {
   "cell_type": "markdown",
   "id": "425de7ce",
   "metadata": {},
   "source": [
    "ans16- A decision tree is a graphical representation of all the possible solutions to a decision based on certain conditions. Tree models where the target variable can take a finite set of values are called classification trees and target variable can take continuous values (numbers) are called regression trees."
   ]
  },
  {
   "cell_type": "markdown",
   "id": "61175b7f",
   "metadata": {},
   "source": [
    "que17- What is the difference between a node and a leaf in a decision tree?"
   ]
  },
  {
   "cell_type": "markdown",
   "id": "e7bcaedd",
   "metadata": {},
   "source": [
    "ans17- A decision tree is a flowchart-like structure in which each internal node represents a \"test\" on an attribute (e.g. whether a coin flip comes up heads or tails), each branch represents the outcome of the test, and each leaf node represents a class label (decision taken after computing all attributes)."
   ]
  },
  {
   "cell_type": "markdown",
   "id": "9c11233c",
   "metadata": {},
   "source": [
    "que18- What is a decision tree's entropy?"
   ]
  },
  {
   "cell_type": "markdown",
   "id": "be19c486",
   "metadata": {},
   "source": [
    "ans18- Entropy helps us to build an appropriate decision tree for selecting the best splitter. Entropy can be defined as a measure of the purity of the sub split. Entropy always lies between 0 to 1. The entropy of any split can be calculate by this formula."
   ]
  },
  {
   "cell_type": "markdown",
   "id": "792422f5",
   "metadata": {},
   "source": [
    "que19- In a decision tree, define knowledge gain."
   ]
  },
  {
   "cell_type": "markdown",
   "id": "207233f0",
   "metadata": {},
   "source": [
    "ans19- Information gain is the reduction in entropy or surprise by transforming a dataset and is often used in training decision trees.Information gain is calculated by comparing the entropy of the dataset before and after a transformation."
   ]
  },
  {
   "cell_type": "markdown",
   "id": "b2a9b565",
   "metadata": {},
   "source": [
    "que20- Choose three advantages of the decision tree approach and write them down."
   ]
  },
  {
   "cell_type": "markdown",
   "id": "8e72790e",
   "metadata": {},
   "source": [
    "ans20- Advantages of Decision Trees :\n",
    "\n",
    "- Easy to read and interpret. One of the advantages of decision trees is that their outputs are easy to read and interpret without requiring statistical knowledge.\n",
    "- Easy to prepare.\n",
    "- Less data cleaning required."
   ]
  },
  {
   "cell_type": "markdown",
   "id": "ad360ec2",
   "metadata": {},
   "source": [
    "que21- Make a list of three flaws in the decision tree process."
   ]
  },
  {
   "cell_type": "markdown",
   "id": "5e9c97fb",
   "metadata": {},
   "source": [
    "ans21- Issues in Decision Tree Learning :\n",
    "\n",
    "- Overfitting the data.\n",
    "- Guarding against bad attribute choices.\n",
    "- Handling continuous valued attributes.\n",
    "- Handling missing attribute values.\n",
    "- Handling attributes with differing costs."
   ]
  },
  {
   "cell_type": "markdown",
   "id": "bec08216",
   "metadata": {},
   "source": [
    "que22- Briefly describe the random forest model."
   ]
  },
  {
   "cell_type": "markdown",
   "id": "caa3804a",
   "metadata": {},
   "source": [
    "ans22- The random forest is a classification algorithm consisting of many decisions trees. It uses bagging and feature randomness when building each individual tree to try to create an uncorrelated forest of trees whose prediction by committee is more accurate than that of any individual tree."
   ]
  }
 ],
 "metadata": {
  "kernelspec": {
   "display_name": "Python 3 (ipykernel)",
   "language": "python",
   "name": "python3"
  },
  "language_info": {
   "codemirror_mode": {
    "name": "ipython",
    "version": 3
   },
   "file_extension": ".py",
   "mimetype": "text/x-python",
   "name": "python",
   "nbconvert_exporter": "python",
   "pygments_lexer": "ipython3",
   "version": "3.9.7"
  }
 },
 "nbformat": 4,
 "nbformat_minor": 5
}
