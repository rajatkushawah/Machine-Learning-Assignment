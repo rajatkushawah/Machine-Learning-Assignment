{
 "cells": [
  {
   "cell_type": "markdown",
   "id": "69cf2b5d",
   "metadata": {},
   "source": [
    "que1- What is prior probability? Give an example."
   ]
  },
  {
   "cell_type": "markdown",
   "id": "9b1d45fb",
   "metadata": {},
   "source": [
    "ans1- Prior probability shows the likelihood of an outcome in a given dataset. For example, in the mortgage case, `P(Y)` is the default rate on a home mortgage, which is `2%`. `P(Y|X)` is called the conditional probability, which provides the probability of an outcome given the evidence, that is, when the value of X is known."
   ]
  },
  {
   "cell_type": "markdown",
   "id": "21aa3ff2",
   "metadata": {},
   "source": [
    "que2- What is posterior probability? Give an example."
   ]
  },
  {
   "cell_type": "markdown",
   "id": "6f874e6f",
   "metadata": {},
   "source": [
    "ans2- Posterior probability is a revised probability that takes into account new available information. For example, let there be two urns, urn A having 5 black balls and 10 red balls and urn B having 10 black balls and 5 red balls."
   ]
  },
  {
   "cell_type": "markdown",
   "id": "43108489",
   "metadata": {},
   "source": [
    "que3- What is likelihood probability? Give an example."
   ]
  },
  {
   "cell_type": "markdown",
   "id": "ab5395cd",
   "metadata": {},
   "source": [
    "ans3- Likelihood Function in Machine Learning and Data Science is the joint probability distribution(jpd) of the dataset given as a function of the parameter. Think of it as the probability of obtaining the observed data given the parameter values."
   ]
  },
  {
   "cell_type": "markdown",
   "id": "9a971a1a",
   "metadata": {},
   "source": [
    "que4- What is Naïve Bayes classifier? Why is it named so?"
   ]
  },
  {
   "cell_type": "markdown",
   "id": "41aa9df3",
   "metadata": {},
   "source": [
    "ans4- Naive Bayes is a simple and powerful algorithm for predictive modeling. Naive Bayes is called naive because it assumes that each input variable is independent. This is a strong assumption and unrealistic for real data; however, the technique is very effective on a large range of complex problems."
   ]
  },
  {
   "cell_type": "markdown",
   "id": "73d91024",
   "metadata": {},
   "source": [
    "que5- What is optimal Bayes classifier?"
   ]
  },
  {
   "cell_type": "markdown",
   "id": "42fb8350",
   "metadata": {},
   "source": [
    "ans5- The Bayes Optimal Classifier is a probabilistic model that makes the most probable prediction for a new example. Bayes Optimal Classifier is a probabilistic model that finds the most probable prediction using the training data and space of hypotheses to make a prediction for a new data instance."
   ]
  },
  {
   "cell_type": "markdown",
   "id": "ed8c4525",
   "metadata": {},
   "source": [
    "que6- Write any two features of Bayesian learning methods."
   ]
  },
  {
   "cell_type": "markdown",
   "id": "8be5f1cc",
   "metadata": {},
   "source": [
    "ans6- A probability distribution over observed data for each possible hypothesis. New instances can be classified by combining the predictions of multiple hypotheses, weighted by their probabilities."
   ]
  },
  {
   "cell_type": "markdown",
   "id": "cd676ccb",
   "metadata": {},
   "source": [
    "que7- Define the concept of consistent learners."
   ]
  },
  {
   "cell_type": "markdown",
   "id": "58328189",
   "metadata": {},
   "source": [
    "ans7- __Consistent Learners:__ A learner L using a hypothesis H and training data D is said to be a consistent learner if it always outputs a hypothesis with zero error on D whenever H contains such a hypothesis. By definition, a consistent learner must produce a hypothesis in the version space for H given D."
   ]
  },
  {
   "cell_type": "markdown",
   "id": "0892a683",
   "metadata": {},
   "source": [
    "que8- Write any two strengths of Bayes classifier."
   ]
  },
  {
   "cell_type": "markdown",
   "id": "de987657",
   "metadata": {},
   "source": [
    "ans8- This algorithm works quickly and can save a lot of time. Naive Bayes is suitable for solving multi-class prediction problems. If its assumption of the independence of features holds true, it can perform better than other models and requires much less training data."
   ]
  },
  {
   "cell_type": "markdown",
   "id": "41badfb8",
   "metadata": {},
   "source": [
    "que9- Write any two weaknesses of Bayes classifier."
   ]
  },
  {
   "cell_type": "markdown",
   "id": "5feb8196",
   "metadata": {},
   "source": [
    "ans9- The greatest weakness of the naïve Bayes classifier is that it relies on an often-faulty assumption of equally important and independent features which results in biased posterior probabilities."
   ]
  },
  {
   "cell_type": "markdown",
   "id": "15b4f98e",
   "metadata": {},
   "source": [
    "que10- Explain how Naïve Bayes classifier is used for\n",
    "1. Text classification\n",
    "2. Spam filtering\n",
    "3. Market sentiment analysis"
   ]
  },
  {
   "cell_type": "markdown",
   "id": "ba9e3ab2",
   "metadata": {},
   "source": [
    "ans10- Navie Bayes Classifier is used for:\n",
    "\n",
    "- __Text classification:__\n",
    "    \n",
    "    The Naive Bayes classifier is a simple classifier that classifies based on probabilities of events. It is the applied commonly to text classification. With the training set, we can train a Naive Bayes classifier which we can use to automaticall categorize a new sentence.\n",
    "\n",
    "\n",
    "- __Spam filtering:__\n",
    "\n",
    "    Naive Bayes classifiers work by correlating the use of tokens (typically words, or sometimes other things), with spam and non-spam e-mails and then using Bayes' theorem to calculate a probability that an email is or is not spam. It is one of the oldest ways of doing spam filtering, with roots in the 1990s.\n",
    "\n",
    "\n",
    "- __Market sentiment analysis:__\n",
    "\n",
    "    Market Sentiment analysis is a field dedicated to extracting subjective emotions and feelings from text. One common use of sentiment analysis is to figure out if a text expresses negative or positive feelings. Naive Bayes is a popular algorithm for classifying text."
   ]
  }
 ],
 "metadata": {
  "kernelspec": {
   "display_name": "Python 3 (ipykernel)",
   "language": "python",
   "name": "python3"
  },
  "language_info": {
   "codemirror_mode": {
    "name": "ipython",
    "version": 3
   },
   "file_extension": ".py",
   "mimetype": "text/x-python",
   "name": "python",
   "nbconvert_exporter": "python",
   "pygments_lexer": "ipython3",
   "version": "3.9.7"
  }
 },
 "nbformat": 4,
 "nbformat_minor": 5
}
