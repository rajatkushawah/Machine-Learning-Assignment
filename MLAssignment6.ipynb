{
 "cells": [
  {
   "cell_type": "markdown",
   "id": "9c4c2e5b",
   "metadata": {},
   "source": [
    "que1- In the sense of machine learning, what is a model? What is the best way to train a model?"
   ]
  },
  {
   "cell_type": "markdown",
   "id": "d035309e",
   "metadata": {},
   "source": [
    "ans1- A Machine Learning Model is a file that has been trained to recognize certain types of patterns. You train a model over a set of data, providing it an algorithm that it can use to reason over and learn from those data.\n",
    "\n",
    "1. __Model Naming —__ Give Your Model a Name, Let’s start with giving your model a name, describe your model and attach tags to your model. Tags are to make your model searchable.\n",
    "2. __Data Type Selection —__ Choose data type(Images/Text/CSV), It’s time to tell us about the type of data you want to train your model. ML Models support Images, Text and *.CSV (categorical data) data types.\n",
    "3. __Data Upload —__ Upload your data or choose from Public Data Sets: Choose from public datasets like Jewellery Data set (Images), Gender Data Set (Images), Question or Sentence Data Set (Text), Numerai Data Set (CSV) or upload your data.\n",
    "4. __Type category(label)__ for the files (images/text file) that you have uploaded and click on submit to begin upload. Wait for some time till our web app uploads all the files. You can upload images for as many categories as possible.\n",
    "5. __Start Training -__ Push the button, to start the training. Now Mateverse’s intelligent backend will start with processing the data that you have uploaded and preparing it for the training."
   ]
  },
  {
   "cell_type": "markdown",
   "id": "d9eb9eb9",
   "metadata": {},
   "source": [
    "que2- In the sense of machine learning, explain the \"No Free Lunch\" theorem."
   ]
  },
  {
   "cell_type": "markdown",
   "id": "5b6b50d3",
   "metadata": {},
   "source": [
    "ans2- The __No Free Lunch Theorem__, often abbreviated as NFL or NFLT, is a theoretical finding that suggests all optimization algorithms perform equally well when their performance is averaged over all possible objective functions. In computational complexity and optimization the no free lunch theorem is a result that states that for certain types of mathematical problems, the computational cost of finding a solution, averaged over all problems in the class, is the same for any solution method."
   ]
  },
  {
   "cell_type": "markdown",
   "id": "4fff5d62",
   "metadata": {},
   "source": [
    "que3- Describe the K-fold cross-validation mechanism in detail."
   ]
  },
  {
   "cell_type": "markdown",
   "id": "f9d3bcac",
   "metadata": {},
   "source": [
    "ans3- In __K-fold cross validation__, data D is subset into k subsets randomly. Let us assume S1...Sk are the subsets where Sk is the kth randomly split subset of data D. In the first iteration, D-S1 is used for training and S1 for testing the model. When the model has been trained and tested, evaluation can be done, score is noted elsewhere and the trained model is discarded."
   ]
  },
  {
   "cell_type": "markdown",
   "id": "1009e05d",
   "metadata": {},
   "source": [
    "que4- Describe the bootstrap sampling method. What is the aim of it?"
   ]
  },
  {
   "cell_type": "markdown",
   "id": "851a6fc9",
   "metadata": {},
   "source": [
    "ans4- The __Bootstrap sampling method__ is a statistical technique for estimating quantities about a population by averaging estimates from multiple small data samples.\n",
    "\n",
    "Importantly, samples are constructed by drawing observations from a large data sample one at a time and returning them to the data sample after they have been chosen. This allows a given observation to be included in a given small sample more than once. This approach to sampling is called sampling with replacement."
   ]
  },
  {
   "cell_type": "markdown",
   "id": "0d47fc80",
   "metadata": {},
   "source": [
    "que5- What is the significance of calculating the Kappa value for a classification model? Demonstrate how to measure the Kappa value of a classification model using a sample collection of results."
   ]
  },
  {
   "cell_type": "markdown",
   "id": "bf82c8d0",
   "metadata": {},
   "source": [
    "ans5- Kappa value or Cohen's Kappa coefficient is an evaluation metric for classification models. Its significance as an evaluation metric is that it can be used to evaluate multi class classification models and also works on models trained on imbalanced datasets(scores like accuracy scores fail for imbalanced datasets).\n",
    "\n",
    "In simpler words It basically tells you how much better your classifier is performing over the performance of a classifier that simply guesses at random according to the frequency of each class. Cohen's kappa is always less than or equal to 1. Values of 0 or less, indicate that the classifier is useless Cohen suggested the Kappa result be interpreted as follows: values ≤ 0 as indicating no agreement and 0.01–0.20 as none to slight, 0.21–0.40 as fair, 0.41– 0.60 as moderate, 0.61–0.80 as substantial, and 0.81–1.00 as almost perfect agreement."
   ]
  },
  {
   "cell_type": "markdown",
   "id": "9cec5cef",
   "metadata": {},
   "source": [
    "que6- Describe the model ensemble method. In machine learning, what part does it play?"
   ]
  },
  {
   "cell_type": "markdown",
   "id": "a7ee4157",
   "metadata": {},
   "source": [
    "ans6- __Ensemble methods__ or __ensemble machine learning models__ are models where more than one models are being used spontaneously to produce better results than individually trained models."
   ]
  },
  {
   "cell_type": "markdown",
   "id": "09ca58db",
   "metadata": {},
   "source": [
    "que7- What is a descriptive model's main purpose? Give examples of real-world problems that descriptive models were used to solve."
   ]
  },
  {
   "cell_type": "markdown",
   "id": "6f9ab84a",
   "metadata": {},
   "source": [
    "ans7- A __descriptive model__ is used for tasks that would benefit from the insight gained from summarizing data in new and interesting ways. As opposed to predictive models that predict a target of interest, in a descriptive model, no single feature is more important than any other. In fact, because there is no target to learn, the process of training a descriptive model is called unsupervised learning. It is used in customer classification as real life problem ."
   ]
  },
  {
   "cell_type": "markdown",
   "id": "b1dee66e",
   "metadata": {},
   "source": [
    "que8- Describe how to evaluate a linear regression model."
   ]
  },
  {
   "cell_type": "markdown",
   "id": "fef24f76",
   "metadata": {},
   "source": [
    "ans8- Evaluation of a __linear regression model__ can be done using R-square. R square is calculated as the sum of squared errors in predictions made, divided by summation of all sum of squares. R square measures how much of the change in target variable can be explained by the linear regressor. Its value ranges from 0 to 1 where 0 means poor performance and 1 means good. Some other techniques which can be used to evaluate a linear regression model are:\n",
    "\n",
    "1. Mean Square Error(MSE)/Root Mean Square Error(RMSE)\n",
    "2. Mean Absolute Error(MAE)"
   ]
  },
  {
   "cell_type": "markdown",
   "id": "b56d338b",
   "metadata": {},
   "source": [
    "que9- Distinguish :\n",
    "\n",
    "1. Descriptive vs. predictive models\n",
    "\n",
    "2. Underfitting vs. overfitting the model\n",
    "\n",
    "3. Bootstrapping vs. cross-validation"
   ]
  },
  {
   "cell_type": "markdown",
   "id": "fb0d2212",
   "metadata": {},
   "source": [
    "ans9- The differences between:\n",
    "\n",
    "1. __Descriptive vs. predictive models__\n",
    "- Descriptive models are built to identify trends and underlying patterns.\n",
    "- Predictive models are built to predict a dependent variable value.\n",
    "- Most of descriptive models are built using unsupervised machine learning.\n",
    "- Most of predictive models are built using classification and regression models.\n",
    "- Example for descriptive model: Finding why consumers are engaging more with a social media post.\n",
    "- Example for predictive model: Predicting the chances of cancer in a patient.\n",
    "\n",
    "2. __Underfitting vs. overfitting the model__\n",
    "- Underfitting is a situation arising when the hypothesis is way too simple, or when the machine learning model is way too simple to produce good results.\n",
    "- Overfitting is a situation arising when the hypothesis is way too complex, or when the machine learning model is way too complex to produce good results.\n",
    "- Underfitting causes a model to produce poor results due to heavily simplified algorithm reacting lightly to changes in the unseen data for independent variables from the training data.\n",
    "- Overfitting makes a model produce poor results due to slightest variations in the unseen data for independent variables from the training data\n",
    "- Underfitting is also called High Bias.\n",
    "- Overfitting is also called High variance\n",
    "\n",
    "3. __Bootstrapping vs cross-validation__\n",
    "- Boostrap sampling is a method of sampling in which the repeated sampling is done with replacement using a data D in random draws over which machine learning models are trained for better performance.\n",
    "- Cross validation is a method used to check the efficacy of the machine learning model on test data.\n",
    "- End goal of bootstrapping is to reduce overfitting and increase performance.\n",
    "- End goal of cross validation is only to produce test scores to check efficacy of model\n",
    "- Bootstrapping is best employed in Random Forest Classifier.\n",
    "- Cross Validation is best employed using K-fold cross validation technique."
   ]
  },
  {
   "cell_type": "markdown",
   "id": "66d4b0ec",
   "metadata": {},
   "source": [
    "que10- Make quick notes on:\n",
    "\n",
    "1. LOOCV.\n",
    "2. F-measurement\n",
    "3. The width of the silhouette\n",
    "4. Receiver operating characteristic curve"
   ]
  },
  {
   "cell_type": "markdown",
   "id": "d316234e",
   "metadata": {},
   "source": [
    "ans10- 1. __LOOCV -__ The Quick notes on: LOOCV or Leave One Out Cross Validation is a form of K-fold cross validation where only one observation is left out for validation purpose while the rest of the data is used for model training each iteration. It is computationally taxing and should only be used for data with low dimensionality.\n",
    "\n",
    "2. __F-measurement -__ Harmonic mean of Precision score and recall score is called F-measurement or F-score. It is formulated as 2 (pr re)/pr +re where pr is precision score and re is recall score.\n",
    "\n",
    "3. __The width of the silhouette -__ Estimate of average inter cluster distance to give efficacy/performance of cluster algorithms is called width of the silhouette. It can also be defined as how identical/similar a data point 'x' is to the data points inside the cluster to which x is assigned. Its value ranges from -1 to 1 where 1 means good and -1 means bad.\n",
    "\n",
    "4. __Receiver operating characteristic curve -__ Curve plotted between True Positive Rate and False Positive Rate is Receiver Operating Characteristics curve and is used to find the area under the curve for ROC-AUC score for binary classification evaluation. True Positive Rate and False Positive Rate are calculated for different thresholds values where thresholds take values starting from the highest probability scores assigned to data points and goes up to the lowest probability score. The curve is impacted by presence of outliers, and simple models. Extensions can be made to this curve to suit multiclass classification evaluation requirements."
   ]
  }
 ],
 "metadata": {
  "kernelspec": {
   "display_name": "Python 3 (ipykernel)",
   "language": "python",
   "name": "python3"
  },
  "language_info": {
   "codemirror_mode": {
    "name": "ipython",
    "version": 3
   },
   "file_extension": ".py",
   "mimetype": "text/x-python",
   "name": "python",
   "nbconvert_exporter": "python",
   "pygments_lexer": "ipython3",
   "version": "3.9.7"
  }
 },
 "nbformat": 4,
 "nbformat_minor": 5
}
